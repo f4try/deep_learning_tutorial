{
 "cells": [
  {
   "cell_type": "markdown",
   "metadata": {},
   "source": [
    "#### 标量"
   ]
  },
  {
   "cell_type": "code",
   "execution_count": null,
   "metadata": {},
   "outputs": [],
   "source": [
    "let scalar =5;\n",
    "scalar"
   ]
  },
  {
   "cell_type": "markdown",
   "metadata": {},
   "source": [
    "#### 向量"
   ]
  },
  {
   "cell_type": "code",
   "execution_count": null,
   "metadata": {},
   "outputs": [],
   "source": [
    "let vector = vec![1,2];\n",
    "vector"
   ]
  },
  {
   "cell_type": "markdown",
   "metadata": {},
   "source": [
    "#### 矩阵"
   ]
  },
  {
   "cell_type": "code",
   "execution_count": 2,
   "metadata": {},
   "outputs": [],
   "source": [
    "#[derive(Debug)]\n",
    "struct Matrix <T> {\n",
    "    val:Vec<Vec<T>>,\n",
    "}"
   ]
  },
  {
   "cell_type": "code",
   "execution_count": null,
   "metadata": {},
   "outputs": [],
   "source": [
    "let matrix = Matrix{val:vec![vec![1,2],vec![3,4]]};\n",
    "matrix"
   ]
  },
  {
   "cell_type": "markdown",
   "metadata": {},
   "source": [
    "#### 矩阵转置"
   ]
  },
  {
   "cell_type": "code",
   "execution_count": 2,
   "metadata": {},
   "outputs": [
    {
     "data": {
      "text/plain": [
       "[[1.0, 4.0], [2.0, 5.0], [3.0, 6.0]]"
      ]
     },
     "execution_count": 2,
     "metadata": {},
     "output_type": "execute_result"
    }
   ],
   "source": [
    "// T:Copy + std::fmt::Debug\n",
    "fn transpose<T:Copy>(matrix:Vec<Vec<T>>)->Vec<Vec<T>>{\n",
    "    if matrix.len()==0{\n",
    "        return vec![vec![]];\n",
    "    }\n",
    "    \n",
    "//     let mut ret = vec![vec![0 as T;matrix.len()];matrix[0].len()];\n",
    "    let mut ret:Vec<Vec<T>> = vec![vec![];matrix[0].len()];\n",
    "    for i in 0..matrix[0].len(){\n",
    "        for j in 0..matrix.len(){\n",
    "            ret[i].push(matrix[j][i]);\n",
    "            \n",
    "        }\n",
    "    }\n",
    "    ret\n",
    "}\n",
    "let matrix = vec![vec![1.,2.,3.],vec![4.,5.,6.]];\n",
    "let matrix_t=transpose(matrix);\n",
    "matrix_t"
   ]
  },
  {
   "cell_type": "code",
   "execution_count": 4,
   "metadata": {},
   "outputs": [],
   "source": [
    "// T:Copy + std::fmt::Debug\n",
    "impl<T:Copy> Matrix<T>{\n",
    "    fn transpose(self)->Matrix<T>{\n",
    "        if self.val.len()==0{\n",
    "            return Matrix{val:vec![vec![]]};\n",
    "        }\n",
    "\n",
    "    //     let mut ret = vec![vec![0 as T;matrix.len()];matrix[0].len()];\n",
    "        let mut ret:Vec<Vec<T>> = vec![vec![];self.val[0].len()];\n",
    "        for i in 0..self.val[0].len(){\n",
    "            for j in 0..self.val.len(){\n",
    "                ret[i].push(self.val[j][i]);\n",
    "\n",
    "            }\n",
    "        }\n",
    "        Matrix{val:ret}\n",
    "    }\n",
    "}"
   ]
  },
  {
   "cell_type": "code",
   "execution_count": 5,
   "metadata": {},
   "outputs": [
    {
     "data": {
      "text/plain": [
       "Matrix { val: [[1, 3], [2, 4]] }"
      ]
     },
     "execution_count": 5,
     "metadata": {},
     "output_type": "execute_result"
    }
   ],
   "source": [
    "let matrix = Matrix{val:vec![vec![1,2],vec![3,4]]};\n",
    "let matrix_t=matrix.transpose();\n",
    "matrix_t"
   ]
  },
  {
   "cell_type": "markdown",
   "metadata": {},
   "source": [
    "#### 矩阵加法"
   ]
  },
  {
   "cell_type": "code",
   "execution_count": null,
   "metadata": {},
   "outputs": [],
   "source": [
    "use std::ops::{Add,Sub,};\n",
    "impl Add for Matrix{\n",
    "    type Output = Self;\n",
    "    fn add(self, other: Self) -> Self {\n",
    "        self.val[]\n",
    "        Self {val: self.x + other.x, y: self.y + other.y}\n",
    "    }\n",
    "}"
   ]
  },
  {
   "cell_type": "code",
   "execution_count": null,
   "metadata": {},
   "outputs": [],
   "source": [
    "let a = vec![vec![1.,2.],vec![3.,4.]];\n",
    "let b = vec![vec![6.,7.],vec![8.,9.]];"
   ]
  }
 ],
 "metadata": {
  "kernelspec": {
   "display_name": "Rust",
   "language": "rust",
   "name": "rust"
  },
  "language_info": {
   "codemirror_mode": "rust",
   "file_extension": ".rs",
   "mimetype": "text/rust",
   "name": "Rust",
   "pygment_lexer": "rust",
   "version": ""
  }
 },
 "nbformat": 4,
 "nbformat_minor": 4
}
